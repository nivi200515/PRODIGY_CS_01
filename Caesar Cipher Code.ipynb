{
 "cells": [
  {
   "cell_type": "code",
   "execution_count": 2,
   "id": "662e32a7-49c4-4453-ba96-a1d90df84e20",
   "metadata": {},
   "outputs": [
    {
     "name": "stdin",
     "output_type": "stream",
     "text": [
      "Type 'E' to Encrypt or 'D' to Decrypt:  E\n",
      "Enter your message:  hello\n",
      "Enter shift value (0-25):  7\n"
     ]
    },
    {
     "name": "stdout",
     "output_type": "stream",
     "text": [
      "Encrypted Message: olssv\n"
     ]
    }
   ],
   "source": [
    "def encrypt(text, shift):\n",
    "    result = \"\"\n",
    "    for char in text:\n",
    "        if char.isalpha():\n",
    "            start = ord('A') if char.isupper() else ord('a')\n",
    "            result += chr((ord(char) - start + shift) % 26 + start)\n",
    "        else:\n",
    "            result += char\n",
    "    return result\n",
    "\n",
    "def decrypt(text, shift):\n",
    "    return encrypt(text, -shift)\n",
    "choice = input(\"Type 'E' to Encrypt or 'D' to Decrypt: \").strip().upper()\n",
    "message = input(\"Enter your message: \")\n",
    "shift_value = int(input(\"Enter shift value (0-25): \"))\n",
    "if choice == 'E':\n",
    "    print(\"Encrypted Message:\", encrypt(message, shift_value))\n",
    "elif choice == 'D':\n",
    "    print(\"Decrypted Message:\", decrypt(message, shift_value))\n",
    "else:\n",
    "    print(\"Invalid choice!\")\n"
   ]
  },
  {
   "cell_type": "code",
   "execution_count": null,
   "id": "48f85737-151d-4219-8b84-a0ce1fc07023",
   "metadata": {},
   "outputs": [],
   "source": []
  }
 ],
 "metadata": {
  "kernelspec": {
   "display_name": "Python [conda env:base] *",
   "language": "python",
   "name": "conda-base-py"
  },
  "language_info": {
   "codemirror_mode": {
    "name": "ipython",
    "version": 3
   },
   "file_extension": ".py",
   "mimetype": "text/x-python",
   "name": "python",
   "nbconvert_exporter": "python",
   "pygments_lexer": "ipython3",
   "version": "3.13.5"
  }
 },
 "nbformat": 4,
 "nbformat_minor": 5
}
